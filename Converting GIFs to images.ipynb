{
 "cells": [
  {
   "cell_type": "markdown",
   "metadata": {},
   "source": [
    "# Converting GIFs to images\n",
    "\n",
    "<hr>\n",
    "\n",
    "The following script can be used to convert all GIFs from the current directory to image frames. Just create a folder named `Converted_gifs` in your current working directory and run \n",
    "\n",
    "```\n",
    "python gifs2jpg.py\n",
    "```"
   ]
  },
  {
   "cell_type": "markdown",
   "metadata": {},
   "source": [
    "## _gifs2jpg.py_"
   ]
  },
  {
   "cell_type": "code",
   "execution_count": null,
   "metadata": {
    "collapsed": true
   },
   "outputs": [],
   "source": [
    "from PIL import Image\n",
    "import glob\n",
    "import os,sys,shutil\n",
    "\n",
    "def processImage(infile):\n",
    "    try:\n",
    "        im = Image.open(infile)\n",
    "    except IOError:\n",
    "        print(\"Cant load\", infile)\n",
    "        sys.exit(1)\n",
    "    i = 0\n",
    "    mypalette = im.getpalette()\n",
    "\n",
    "    try:\n",
    "        while 1:\n",
    "            im.putpalette(mypalette)\n",
    "            new_im = Image.new(\"RGBA\", im.size)\n",
    "            new_im.paste(im)\n",
    "            infilename = os.path.splitext(infile)[0]\n",
    "            #new_im.save('Converted_gifs/' +  infilename+str(i)+'.jpg')\n",
    "            new_im.save(infile+str(i)+'.jpg')\n",
    "            print('Saved : ' + infilename+str(i)+'.jpg')\n",
    "            i += 1\n",
    "            im.seek(im.tell() + 1)\n",
    "\n",
    "    except EOFError:\n",
    "        pass # end of sequence\n",
    "\n",
    "for single_gif in glob.glob('*.gif'):\n",
    "    print(single_gif)\n",
    "    processImage(single_gif)\n",
    "    shutil.move(single_gif,'Converted_gifs/'+single_gif)"
   ]
  },
  {
   "cell_type": "markdown",
   "metadata": {},
   "source": [
    "All the GIFs in the current directory would be converted to JPG images and the GIFs would be moved to the `Converted_gifs` folder.\n",
    "\n",
    "<hr>"
   ]
  }
 ],
 "metadata": {
  "kernelspec": {
   "display_name": "Python 3",
   "language": "python",
   "name": "python3"
  },
  "language_info": {
   "codemirror_mode": {
    "name": "ipython",
    "version": 3
   },
   "file_extension": ".py",
   "mimetype": "text/x-python",
   "name": "python",
   "nbconvert_exporter": "python",
   "pygments_lexer": "ipython3",
   "version": "3.5.2"
  }
 },
 "nbformat": 4,
 "nbformat_minor": 2
}
