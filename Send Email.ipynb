{
 "cells": [
  {
   "cell_type": "markdown",
   "metadata": {},
   "source": [
    "# Sending an Email using Python"
   ]
  },
  {
   "cell_type": "markdown",
   "metadata": {},
   "source": [
    "The following program can be used to send automated emails bu the use of Python. It makes use of the smtplib python library. This library performs the functionalities of [SMTP or Simple Mail Transfer Protocol](https://en.wikipedia.org/wiki/Simple_Mail_Transfer_Protocol) under the hood and can be used to send emails.   "
   ]
  },
  {
   "cell_type": "markdown",
   "metadata": {},
   "source": [
    "## *sendemail.py* "
   ]
  },
  {
   "cell_type": "code",
   "execution_count": null,
   "metadata": {
    "collapsed": true
   },
   "outputs": [],
   "source": [
    "#! Python3.5\n",
    "\n",
    "import smtplib\n",
    "import sys\n",
    "\n",
    "smtp_obj = smtplib.SMTP('smtp.gmail.com', 587)\n",
    "smtp_obj.ehlo()\n",
    "smtp_obj.starttls()\n",
    "\n",
    "# Insert your email address, password and address of the recipient between the quotes below:\n",
    "your_own_email_id = \"your-own-gmail-id@gmail.com\"\n",
    "your_own_email_password = \"****yourpassword****\"\n",
    "email_id_of_the_recipient = \"email-id-of-the-receiver@gmail.com\"\n",
    "\n",
    "# Log in to email account.\n",
    "smtp_obj.login(your_own_email_id, your_own_email_password)\n",
    "\n",
    "# Enter the body of the mail to be sent.\n",
    "email_body = 'Hi there. This is an automated message sent specifically to you using a python script!'\n",
    "\n",
    "print('Sending email...')\n",
    "sendmail_status = smtp_obj.sendmail(your_own_email_id,email_id_of_the_recipient ,email_body)\n",
    "\n",
    "# Print out the error message if the email wasn't properly sent.\n",
    "if sendmail_status != {}:\n",
    "    print('Oops! There was a problem sending email : %s' % (your_own_email_id, sendmail_status))\n",
    "else:\n",
    "    print ('Email successfully sent!')\n",
    "smtp_obj.quit()\n"
   ]
  },
  {
   "cell_type": "markdown",
   "metadata": {},
   "source": [
    "Your email would be sent.\n",
    "___"
   ]
  }
 ],
 "metadata": {
  "kernelspec": {
   "display_name": "Python 3",
   "language": "python",
   "name": "python3"
  },
  "language_info": {
   "codemirror_mode": {
    "name": "ipython",
    "version": 3
   },
   "file_extension": ".py",
   "mimetype": "text/x-python",
   "name": "python",
   "nbconvert_exporter": "python",
   "pygments_lexer": "ipython3",
   "version": "3.5.2"
  }
 },
 "nbformat": 4,
 "nbformat_minor": 0
}
