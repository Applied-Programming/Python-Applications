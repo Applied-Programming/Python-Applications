{
 "cells": [
  {
   "cell_type": "markdown",
   "metadata": {},
   "source": [
    "# Web Crawler"
   ]
  },
  {
   "cell_type": "markdown",
   "metadata": {},
   "source": [
    "This program demonstrates how web crawlers can scrape webpages and extract texts according to different HTML tags of the page. We build a Web Crawler in Python to extract the Snapdeal reviews of the Apple Macbook Pro 13. We then write the reviews to a text file.\n",
    "____\n",
    "### *webcrawler.py*"
   ]
  },
  {
   "cell_type": "code",
   "execution_count": 4,
   "metadata": {
    "collapsed": false
   },
   "outputs": [
    {
     "name": "stdout",
     "output_type": "stream",
     "text": [
      "Scraping Page number 1\n",
      "Scraping Page number 2\n",
      "Scraping Page number 3\n",
      "Scraping Page number 4\n",
      "Scraping Page number 5\n",
      "Done\n"
     ]
    }
   ],
   "source": [
    "import requests\n",
    "from bs4 import BeautifulSoup \n",
    "\n",
    "# Main crawler function to scrape the webpages:\n",
    "# max_pages denote the no of pages to be scraped\n",
    "def crawler(max_pages):\n",
    "    page = 1\n",
    "    while page <= max_pages:\n",
    "        url = 'http://www.snapdeal.com/product/apple-macbook-pro-13-inch/199160/reviews?page='\\\n",
    "        + str(page)\\\n",
    "        + '&sortBy=HELPFUL#defRevPDP'\n",
    "        \n",
    "        source_code = requests.get(url) # Get the source code of the webpage\n",
    "        plain_text = source_code.text   # Get all the text from the source code\n",
    "        #print(plain_text)\n",
    "\n",
    "        bsobj = BeautifulSoup(plain_text, \"html.parser\")  # Create a BeutifulSoup object\n",
    "        \n",
    "        for main in bsobj.findAll('div', {'class': 'user-review'}): \n",
    "            p = main.get_text()         #Find text according to tags \n",
    "            #print(p)\n",
    "            \n",
    "            #Write all the reviews to a text file.\n",
    "            with open(\"reviews.txt\",\"a\") as myfile:\n",
    "                    myfile.write(p)\n",
    "\n",
    "        print (\"Scraping Page number {}\".format(page))        \n",
    "        page += 1\n",
    "\n",
    "                \n",
    "crawler(5)\n",
    "print(\"Done\")"
   ]
  },
  {
   "cell_type": "markdown",
   "metadata": {},
   "source": [
    "___"
   ]
  }
 ],
 "metadata": {
  "kernelspec": {
   "display_name": "Python 3",
   "language": "python",
   "name": "python3"
  },
  "language_info": {
   "codemirror_mode": {
    "name": "ipython",
    "version": 3
   },
   "file_extension": ".py",
   "mimetype": "text/x-python",
   "name": "python",
   "nbconvert_exporter": "python",
   "pygments_lexer": "ipython3",
   "version": "3.5.2"
  }
 },
 "nbformat": 4,
 "nbformat_minor": 0
}
