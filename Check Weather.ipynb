{
 "cells": [
  {
   "cell_type": "markdown",
   "metadata": {},
   "source": [
    "# Check Current Weather using Python\n",
    "\n",
    "This program prints the current weather for a location you specify. We will use the <a href=\"http://openweathermap.org/\">OpenWeatherMap.org</a>'s API to fetch the weather data. \n",
    "\n",
    "First sign in at http://home.openweathermap.org/ and proceed to create your own API key. Once you have the API, enter it in the code-line _appID = 'YOUR-OWN-OPENWEATHERMAP-API_ in place of YOUR-OWN-OPENWEATHERMAP-API."
   ]
  },
  {
   "cell_type": "markdown",
   "metadata": {},
   "source": [
    "## *checkweather.py*"
   ]
  },
  {
   "cell_type": "code",
   "execution_count": null,
   "metadata": {
    "collapsed": true
   },
   "outputs": [],
   "source": [
    "#! Python 3.4\n",
    "\n",
    "import json\n",
    "import requests\n",
    "import sys\n",
    "\n",
    "app_ID = 'YOUR-OWN-OPENWEATHERMAP-API'\n",
    "location = ('Nagpur,IN')\n",
    "\n",
    "# Download the JSON data from OpenWeatherMap.org's API using the Python requests module\n",
    "url ='http://api.openweathermap.org/data/2.5/weather?q=%s&appid=%s' % (location, app_ID)\n",
    "response = requests.get(url)\n",
    "response.raise_for_status()\n",
    "\n",
    "# Load JSON data.\n",
    "weather_data = json.loads(response.text)\n",
    "\n",
    "# Print weather descriptions:\n",
    "w = weather_data['weather']\n",
    "\n",
    "print('Current weather in %s:' % (location))\n",
    "print(w[0]['main'], '-', w[0]['description'])\n",
    "\n",
    "# Print temperature.\n",
    "t = weather_data['main']\n",
    "temp = t[\"temp\"]-273.15 # Convert Kelvin to 'Celsius\n",
    "print('Temperature - %.2f\\'C' %(temp))"
   ]
  },
  {
   "cell_type": "markdown",
   "metadata": {},
   "source": [
    "The output would look like:\n",
    "\n",
    "<img src=\"images/weather.png\">"
   ]
  },
  {
   "cell_type": "markdown",
   "metadata": {},
   "source": [
    "Here we are just parsing the JSON string from the results of opeanweathermap.org and manipulating it to get our desired output.\n",
    "\n",
    "The complete JSON string that is the result of search query at opeanweathermap.org is something like :\n"
   ]
  },
  {
   "cell_type": "markdown",
   "metadata": {},
   "source": [
    "<strong>\n",
    "{\"coord\":{\"lon\":79.1,\n",
    "        \"lat\":21.15},\n",
    "\n",
    "\"weather\":[{\"id\":211,\n",
    "            \"main\":\"Thunderstorm\",\n",
    "            \"description\":\"thunderstorm\",\n",
    "            \"icon\":\"11d\"}],\n",
    "\n",
    "\"base\":\"stations\",\n",
    "\n",
    "\"main\":{\"temp\":306.15,\n",
    "    \"pressure\":1014,\n",
    "    \"humidity\":36,\n",
    "    \"temp_min\":306.15,\n",
    "    \"temp_max\":306.15},\n",
    "\n",
    "\"visibility\":3000,\n",
    "\n",
    "\"wind\":{\"speed\":1.57,\n",
    "    \"deg\":61.0027},\n",
    "\n",
    "\"clouds\":{\"all\":75},\n",
    "\n",
    "\"dt\":1457008200,\n",
    "\n",
    "\"sys\"{\"type\":1,\"id\":7775,\n",
    "    \"message\":0.0208,\n",
    "    \"country\":\"IN\",\n",
    "    \"sunrise\":1456966915,\n",
    "    \"sunset\":1457009344},\n",
    "    \"id\":1262180,\n",
    "    \"name\":\"Nagpur\",\n",
    "    \"cod\":200}\n",
    "\n",
    "<strong>"
   ]
  },
  {
   "cell_type": "markdown",
   "metadata": {},
   "source": [
    "Note here the temperature is in Kelvin. We converted it to Celsius in our code.\n",
    "\n",
    "Accordingly, you can make changes the above code to print the desired data.\n",
    "___"
   ]
  }
 ],
 "metadata": {
  "kernelspec": {
   "display_name": "Python 3",
   "language": "python",
   "name": "python3"
  },
  "language_info": {
   "codemirror_mode": {
    "name": "ipython",
    "version": 3
   },
   "file_extension": ".py",
   "mimetype": "text/x-python",
   "name": "python",
   "nbconvert_exporter": "python",
   "pygments_lexer": "ipython3",
   "version": "3.5.2"
  }
 },
 "nbformat": 4,
 "nbformat_minor": 0
}
