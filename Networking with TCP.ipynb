{
 "cells": [
  {
   "cell_type": "markdown",
   "metadata": {},
   "source": [
    "# Networking with TCP\n",
    "\n",
    "The following program demonstrates networking using TCP (<a href=\"https://en.wikipedia.org/wiki/Transmission_Control_Protocol\">Transmission Control Protocol</a>). We make use of the socket module in Python."
   ]
  },
  {
   "cell_type": "markdown",
   "metadata": {},
   "source": [
    "## *tcpServer.py*"
   ]
  },
  {
   "cell_type": "code",
   "execution_count": null,
   "metadata": {
    "collapsed": true
   },
   "outputs": [],
   "source": [
    "import socket\n",
    "\n",
    "\n",
    "def Main():\n",
    "    host = '127.0.0.1'\n",
    "    port = 5000\n",
    "\n",
    "    s = socket.socket()  # create a socket object\n",
    "    s.bind((host, port))  # bind the socket to this machine\n",
    "\n",
    "    s.listen(1)  # tell socket to listen\n",
    "    c, addr = s.accept()\n",
    "    print(\"Connection from: \" + str(addr))\n",
    "    while True:\n",
    "        data = c.recv(1024).decode('utf-8')  # receive data from clientscdecoded from raw butes\n",
    "        if not data:\n",
    "            break\n",
    "        print(\"From connected user :\" + data)\n",
    "        data = data.upper()\n",
    "        print(\"Sending: \" + data)\n",
    "        c.send(data.encode('utf-8'))  # encode the data to send\n",
    "    c.close()\n",
    "\n",
    "\n",
    "if __name__ == '__main__':\n",
    "    Main()\n"
   ]
  },
  {
   "cell_type": "markdown",
   "metadata": {},
   "source": [
    "## *tcpClient.py*"
   ]
  },
  {
   "cell_type": "code",
   "execution_count": null,
   "metadata": {
    "collapsed": true
   },
   "outputs": [],
   "source": [
    "import socket\n",
    "\n",
    "\n",
    "def Main():\n",
    "    host = '127.0.0.1'\n",
    "    port = 5000\n",
    "\n",
    "    s = socket.socket()  # create a socket object\n",
    "    s.connect((host,port))  # connect to the server\n",
    "\n",
    "    message = input(\"-> \")\n",
    "    while message != 'q':\n",
    "        s.send(message.encode('utf-8'))  # send message\n",
    "        data = s.recv(1024).decode('utf-8')\n",
    "        print(\"Received from server : \" + data)\n",
    "        message = input(\"-> \")\n",
    "    s.close()\n",
    "\n",
    "\n",
    "if __name__ == '__main__':\n",
    "    Main()\n"
   ]
  },
  {
   "cell_type": "markdown",
   "metadata": {},
   "source": [
    "Run tcpServer.py first, then tcpClient.py.\n",
    "\n",
    "The output of the program looks like:\n",
    "\n",
    "<img src=\"images/tcp.png\">\n",
    "\n",
    "___"
   ]
  }
 ],
 "metadata": {
  "kernelspec": {
   "display_name": "Python 3",
   "language": "python",
   "name": "python3"
  },
  "language_info": {
   "codemirror_mode": {
    "name": "ipython",
    "version": 3
   },
   "file_extension": ".py",
   "mimetype": "text/x-python",
   "name": "python",
   "nbconvert_exporter": "python",
   "pygments_lexer": "ipython3",
   "version": "3.5.2"
  }
 },
 "nbformat": 4,
 "nbformat_minor": 0
}
