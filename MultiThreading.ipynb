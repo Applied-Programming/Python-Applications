{
 "cells": [
  {
   "cell_type": "markdown",
   "metadata": {},
   "source": [
    "# Multithreading\n",
    "\n",
    "The following script demonstrates the concept of multithreading using the Thread module.\n",
    "\n",
    "### *MultiThreading.py*"
   ]
  },
  {
   "cell_type": "code",
   "execution_count": 9,
   "metadata": {
    "collapsed": false
   },
   "outputs": [
    {
     "name": "stdout",
     "output_type": "stream",
     "text": [
      "Timer: Timer1 Started\n",
      "Main Completed\n",
      "Timer: Timer2 Started\n",
      "\n",
      "\n",
      "\n",
      "Timer1: Wed Jan  4 00:11:54 2017\n",
      "Timer: Timer1 Completed\n",
      "\n",
      "\n",
      "Timer2: Wed Jan  4 00:11:55 2017\n",
      "Timer: Timer2 Completed\n",
      "\n",
      "\n"
     ]
    }
   ],
   "source": [
    "from threading import Thread\n",
    "import time\n",
    "\n",
    "def timer(name, delay, repeat):\n",
    "    print(\"Timer: \" + name + \" Started\\n\")\n",
    "    \n",
    "    while repeat > 0:\n",
    "        time.sleep(delay)\n",
    "        print(name + \": \" + str(time.ctime(time.time())))\n",
    "        repeat = -1\n",
    "    print(\"Timer: \" + name + \" Completed\")\n",
    "    print(\"\\n\")\n",
    "\n",
    "def Main():\n",
    "    t1 = Thread(target=timer, args=(\"Timer1\", 1, 5))\n",
    "    t2 = Thread(target=timer, args=(\"Timer2\", 2, 5))\n",
    "    t1.start()\n",
    "    t2.start()\n",
    "\n",
    "    print(\"Main Completed\\n\")\n",
    "\n",
    "\n",
    "if __name__ == '__main__':\n",
    "    Main()\n"
   ]
  },
  {
   "cell_type": "markdown",
   "metadata": {},
   "source": [
    "### *ThreadLocks.py*"
   ]
  },
  {
   "cell_type": "code",
   "execution_count": 10,
   "metadata": {
    "collapsed": false
   },
   "outputs": [
    {
     "name": "stdout",
     "output_type": "stream",
     "text": [
      "Timer: Timer1 Started\n",
      "\n",
      "Timer: Timer2 Started\n",
      "Main Completed\n",
      "\n",
      "\n",
      "Timer2 Has acquired has the lock\n",
      "\n",
      "Timer2: Wed Jan  4 00:14:57 2017Timer1 Has acquired has the lock\n",
      "\n",
      "\n",
      "Timer2 is releasing the lock\n",
      "\n",
      "Timer: Timer2 Completed\n",
      "\n",
      "Timer1: Wed Jan  4 00:14:58 2017\n",
      "Timer1 is releasing the lock\n",
      "\n",
      "Timer: Timer1 Completed\n",
      "\n"
     ]
    }
   ],
   "source": [
    "import threading\n",
    "import time\n",
    "\n",
    "tLock = threading.Lock()\n",
    "\n",
    "def timer(name, delay, repeat):\n",
    "    print(\"Timer: \" + name + \" Started\\n\")\n",
    "    tLock.acquire()\n",
    "    print(name+\" Has acquired has the lock\\n\")\n",
    "    while repeat > 0:\n",
    "        time.sleep(delay)\n",
    "        print(name + \": \" + str(time.ctime(time.time())))\n",
    "        repeat = -1\n",
    "    print(name + \" is releasing the lock\\n\")\n",
    "    tLock.release()\n",
    "    print(\"Timer: \" + name + \" Completed\\n\")\n",
    "\n",
    "\n",
    "def Main():\n",
    "    t1 = threading.Thread(target=timer, args=(\"Timer1\", 1, 5))\n",
    "    t2 = threading.Thread(target=timer, args=(\"Timer2\", 2, 5))\n",
    "    t1.start()\n",
    "    t2.start()\n",
    "\n",
    "    print(\"Main Completed\\n\")\n",
    "\n",
    "\n",
    "if __name__ == '__main__':\n",
    "    Main()\n"
   ]
  },
  {
   "cell_type": "markdown",
   "metadata": {},
   "source": [
    "### *AsyncWrite.py*"
   ]
  },
  {
   "cell_type": "code",
   "execution_count": 2,
   "metadata": {
    "collapsed": false
   },
   "outputs": [
    {
     "name": "stdout",
     "output_type": "stream",
     "text": [
      "Enter a string to store: \n",
      "Hello-World\n",
      "The program can continue while it writes in another thread \n",
      "\n",
      "100 + 400 =  500\n",
      "Finished Background File Write to Hello-World\n",
      "\n",
      "\n",
      "Wait till background thread is complete\n",
      "\n"
     ]
    }
   ],
   "source": [
    "import threading\n",
    "import time\n",
    "\n",
    "class AsyncWrite(threading.Thread):\n",
    "    def __init__(self,text,out):\n",
    "        threading.Thread.__init__(self)\n",
    "        self.text = text\n",
    "        self.out = out\n",
    "\n",
    "    def run(self):\n",
    "        f = open(self.out,\"a\")\n",
    "        f.write(self.text)\n",
    "        f.close()\n",
    "        time.sleep(2)\n",
    "        print(\"Finished Background File Write to \" + self.text + \"\\n\")\n",
    "\n",
    "def Main():\n",
    "    message = input(\"Enter a string to store: \\n\")\n",
    "    background = AsyncWrite(message,'out.txt')\n",
    "    background.start()\n",
    "    print(\"The program can continue while it writes in another thread \\n\")\n",
    "    print(\"100 + 400 = \", 100+400)\n",
    "\n",
    "    background.join() #wait till background thread is done\n",
    "    print(\"\")\n",
    "    print(\"Wait till background thread is complete\\n\")\n",
    "\n",
    "if __name__ == '__main__':\n",
    "    Main()\n",
    "\n"
   ]
  },
  {
   "cell_type": "markdown",
   "metadata": {},
   "source": [
    "____\n",
    "\"<b>Hello-World</b>\" would be written to the file `out.txt`."
   ]
  },
  {
   "cell_type": "markdown",
   "metadata": {},
   "source": [
    "---"
   ]
  }
 ],
 "metadata": {
  "kernelspec": {
   "display_name": "Python 3",
   "language": "python",
   "name": "python3"
  },
  "language_info": {
   "codemirror_mode": {
    "name": "ipython",
    "version": 3
   },
   "file_extension": ".py",
   "mimetype": "text/x-python",
   "name": "python",
   "nbconvert_exporter": "python",
   "pygments_lexer": "ipython3",
   "version": "3.5.2"
  }
 },
 "nbformat": 4,
 "nbformat_minor": 0
}
