{
 "cells": [
  {
   "cell_type": "markdown",
   "metadata": {},
   "source": [
    "# Database Interaction\n",
    "\n",
    "The following scripts demonstrates the use of `sqlite3` module for database programming in python. \n",
    "\n",
    "### *dbinteraction1.py*"
   ]
  },
  {
   "cell_type": "code",
   "execution_count": 1,
   "metadata": {
    "collapsed": false
   },
   "outputs": [
    {
     "name": "stdout",
     "output_type": "stream",
     "text": [
      "('3.8.11',)\n"
     ]
    }
   ],
   "source": [
    "import sqlite3\n",
    "\n",
    "def Main():\n",
    "    con = sqlite3.connect('test.db')\n",
    "\n",
    "    cur = con.cursor()    \n",
    "    cur.execute('SELECT SQLITE_VERSION()')\n",
    "\n",
    "    data = cur.fetchone()\n",
    "\n",
    "    print(data)\n",
    "\n",
    "    con.close()\n",
    "\n",
    "if __name__ == '__main__':\n",
    "    Main()\n"
   ]
  },
  {
   "cell_type": "markdown",
   "metadata": {},
   "source": [
    "<hr>\n",
    "### *dbinteraction2.py*"
   ]
  },
  {
   "cell_type": "code",
   "execution_count": 2,
   "metadata": {
    "collapsed": false
   },
   "outputs": [
    {
     "name": "stdout",
     "output_type": "stream",
     "text": [
      "(1, 'Cat', 400)\n",
      "(2, 'Dog', 600)\n",
      "(3, 'Rabbit', 200)\n",
      "(4, 'Bird', 60)\n"
     ]
    }
   ],
   "source": [
    "import sqlite3\n",
    "\n",
    "def Main():\n",
    "    try:\n",
    "        con = sqlite3.connect('test.db')\n",
    "\n",
    "        cur = con.cursor() \n",
    "\n",
    "        cur.execute(\"CREATE TABLE Pets(Id INT, Name TEXT, Price INT)\")\n",
    "        cur.execute(\"INSERT INTO Pets VALUES(1, 'Cat', 400)\")\n",
    "        cur.execute(\"INSERT INTO Pets VALUES(2, 'Dog', 600)\")\n",
    "        cur.execute(\"INSERT INTO Pets VALUES(3, 'Rabbit', 200)\")\n",
    "        cur.execute(\"INSERT INTO Pets VALUES(4, 'Bird', 60)\")\n",
    "\n",
    "        con.commit()\n",
    "\n",
    "        cur.execute(\"SELECT * FROM Pets\")\n",
    "        data = cur.fetchall()\n",
    "\n",
    "        for row in data:\n",
    "            print(row)\n",
    "\n",
    "    except sqlite3.Error:\n",
    "        if con:\n",
    "            con.rollback()\n",
    "    finally:\n",
    "        if con:\n",
    "            con.close()\n",
    "\n",
    "if __name__ == '__main__':\n",
    "    Main()\n"
   ]
  },
  {
   "cell_type": "markdown",
   "metadata": {},
   "source": [
    "<hr>\n",
    "### *dbinteraction3.py*"
   ]
  },
  {
   "cell_type": "code",
   "execution_count": 4,
   "metadata": {
    "collapsed": false
   },
   "outputs": [
    {
     "name": "stdout",
     "output_type": "stream",
     "text": [
      "(1, 'Cat', 400)\n",
      "(2, 'Dog', 600)\n",
      "(3, 'Rabbit', 200)\n",
      "(4, 'Bird', 60)\n",
      "(5, 'Goat', 500)\n"
     ]
    }
   ],
   "source": [
    "import sqlite3\n",
    "\n",
    "def Main():\n",
    "    try:\n",
    "        con = sqlite3.connect('test.db')\n",
    "\n",
    "        cur = con.cursor() \n",
    "        cur.executescript(\"\"\"DROP TABLE IF EXISTS Pets;\n",
    "                CREATE TABLE Pets(Id INT, Name TEXT, Price INT);\n",
    "                INSERT INTO Pets VALUES(1, 'Cat', 400);\n",
    "                INSERT INTO Pets VALUES(2, 'Dog', 600);\"\"\")\n",
    "\n",
    "        pets = ((3, 'Rabbit', 200),\n",
    "            (4, 'Bird', 60),\n",
    "            (5, 'Goat', 500))\n",
    "\n",
    "        cur.executemany(\"INSERT INTO Pets VALUES(?, ?, ?)\", pets)\n",
    "\n",
    "        con.commit()\n",
    "\n",
    "        cur.execute(\"SELECT * FROM Pets\")\n",
    "        data = cur.fetchall()\n",
    "\n",
    "        for row in data:\n",
    "            print(row)\n",
    "\n",
    "    except sqlite3.Error as e:\n",
    "        if con:\n",
    "            con.rollback()\n",
    "    finally:\n",
    "        if con:\n",
    "            con.close()\n",
    "\n",
    "if __name__ == '__main__':\n",
    "    Main()\n"
   ]
  },
  {
   "cell_type": "markdown",
   "metadata": {},
   "source": [
    "___"
   ]
  }
 ],
 "metadata": {
  "kernelspec": {
   "display_name": "Python 3",
   "language": "python",
   "name": "python3"
  },
  "language_info": {
   "codemirror_mode": {
    "name": "ipython",
    "version": 3
   },
   "file_extension": ".py",
   "mimetype": "text/x-python",
   "name": "python",
   "nbconvert_exporter": "python",
   "pygments_lexer": "ipython3",
   "version": "3.5.2"
  }
 },
 "nbformat": 4,
 "nbformat_minor": 0
}
