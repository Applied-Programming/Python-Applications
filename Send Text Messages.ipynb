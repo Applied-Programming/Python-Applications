{
 "cells": [
  {
   "cell_type": "markdown",
   "metadata": {},
   "source": [
    "# Send text messages from your computer using python.\n",
    "___"
   ]
  },
  {
   "cell_type": "markdown",
   "metadata": {},
   "source": [
    "You can send text messages from your computer to cell-phones using python modules like twilio, free sms gateway, python sms api etc. Here we would be using twilio. You have to install the _twilio_ module and also create a twilio account. \n",
    "\n",
    "Use <b>`pip install twilio`</b> to install the twilio module.\n",
    "\n",
    "To sign-up, go to http://twilio.com/ and fill out the sign-up form. Once you’ve signed up for a new account, you’ll need to verify a mobile phone number that you want to send texts to. (This verification is necessary to prevent people from using the service to spam random phone numbers with text messages.)\n",
    "After receiving the text with the verification number, enter it into the Twilio website to prove that you own the mobile phone you are verifying. You will now be able to send texts to this phone number using the twilio module.\n",
    "Twilio provides your trial account with a phone number to use as the sender of text messages. You will need two more pieces of information: your account SID and the auth (authentication) token. You can find this information on the Dashboard page when you are logged in to your Twilio account. These values act as your Twilio username and password when logging in from a Python program."
   ]
  },
  {
   "cell_type": "markdown",
   "metadata": {},
   "source": [
    "## *sendtext.py*"
   ]
  },
  {
   "cell_type": "code",
   "execution_count": null,
   "metadata": {
    "collapsed": false
   },
   "outputs": [],
   "source": [
    "#! Python 3\n",
    "from twilio.rest import TwilioRestClient\n",
    "\n",
    "# Enter the appropriate credebtials\n",
    "accountSID = 'YOUR-OWN-ACCOUNT-SID'\n",
    "authToken = 'YOUR-OWN-AUTHORIZATION-TOKEN'\n",
    "my_TwilioNumber = 'YOUR-OWN-TWILIO-NO'\n",
    "my_CellPhone = 'SEND-TEXT-TO-THIS-PHONE-NO'\n",
    "\n",
    "\n",
    "def send_text(message):\n",
    "    twilio_client = TwilioRestClient(accountSID, authToken)\n",
    "    twilio_client.messages.create(body=message, from_ = my_TwilioNumber, to = my_CellPhone)\n",
    "\n",
    "send_text(\"This message is specifically sent to you via a python script\")"
   ]
  },
  {
   "cell_type": "markdown",
   "metadata": {},
   "source": [
    "And the text will be sent.\n",
    "___"
   ]
  }
 ],
 "metadata": {
  "kernelspec": {
   "display_name": "Python 3",
   "language": "python",
   "name": "python3"
  },
  "language_info": {
   "codemirror_mode": {
    "name": "ipython",
    "version": 3
   },
   "file_extension": ".py",
   "mimetype": "text/x-python",
   "name": "python",
   "nbconvert_exporter": "python",
   "pygments_lexer": "ipython3",
   "version": "3.5.2"
  }
 },
 "nbformat": 4,
 "nbformat_minor": 0
}
