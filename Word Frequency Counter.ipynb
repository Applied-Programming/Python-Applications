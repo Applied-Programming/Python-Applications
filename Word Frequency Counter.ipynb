{
 "cells": [
  {
   "cell_type": "markdown",
   "metadata": {},
   "source": [
    "# Word Frequency Counter\n",
    "____\n",
    "\n",
    "This program scrapes the review webpage from the Snapdeal website and then runs the Word frequency counter on the text from the page.\n",
    "\n",
    "### *wordfreqcounter.py*"
   ]
  },
  {
   "cell_type": "code",
   "execution_count": null,
   "metadata": {
    "collapsed": false,
    "scrolled": true
   },
   "outputs": [],
   "source": [
    "#! Python 3\n",
    "\n",
    "import requests\n",
    "import operator\n",
    "from bs4 import BeautifulSoup\n",
    "\n",
    "# Scrape the webpage using the given URL\n",
    "def scrape(url):\n",
    "    word_list = []\n",
    "    source_code = requests.get(url).text  #Get the source code of the webpage\n",
    "    soup = BeautifulSoup(source_code,\"html.parser\") # Create a bs4 object\n",
    "\n",
    "    #Find text by tags\n",
    "    for post_text in soup.findAll('div', {'class': 'head'}):\n",
    "        content = post_text.string        #Get the text\n",
    "        words = content.lower().split()   #Convert all text into lowercase  \n",
    "        for each_word in words:\n",
    "            word_list.append(each_word)   #Add to word_list  \n",
    "    clean_list(word_list)\n",
    "\n",
    "# Remove extra characters from words\n",
    "def clean_list(word_list):\n",
    "    clean_word_list = []\n",
    "    for each_word in word_list:\n",
    "        # Define symbols that ought to be removed\n",
    "        symbols = \"!@#$%^&*()_+{}:\\\"<>?,./;'[]-='\"\n",
    "        for i in range(0,len(symbols)):\n",
    "            each_word = each_word.replace(symbols[i],\"\") \n",
    "        if len(each_word) > 0:\n",
    "            #print(each_word)\n",
    "            clean_word_list.append(each_word) #Add to clean_word_list\n",
    "    create_dictionary(clean_word_list)\n",
    "\n",
    "\n",
    "# Create python dictionary of {words : count}\n",
    "def create_dictionary(clean_word_list):\n",
    "    word_count = {}\n",
    "    for each_word in clean_word_list:\n",
    "        if each_word in word_count:\n",
    "            word_count[each_word] = word_count[each_word] + 1\n",
    "        else:\n",
    "            word_count[each_word] = 1\n",
    "\n",
    "    # Print the dictionary elements    \n",
    "    for key,value in sorted(word_count.items(), key=operator.itemgetter(1)):\n",
    "        print(key,value)\n",
    "\n",
    "scrape('http://www.snapdeal.com/product/apple-macbook-pro-13-inch/199160/reviews?page=5')\n"
   ]
  },
  {
   "cell_type": "markdown",
   "metadata": {},
   "source": [
    "The output would look something like: <br>\n",
    "\n",
    "<strong>\n",
    "most : 2 <br>\n",
    "review : 1 <br>\n",
    "245 : 1 <br>\n",
    "awesome : 2 <br>\n",
    "</strong>\n",
    "and so on...\n",
    "___"
   ]
  }
 ],
 "metadata": {
  "kernelspec": {
   "display_name": "Python 3",
   "language": "python",
   "name": "python3"
  },
  "language_info": {
   "codemirror_mode": {
    "name": "ipython",
    "version": 3
   },
   "file_extension": ".py",
   "mimetype": "text/x-python",
   "name": "python",
   "nbconvert_exporter": "python",
   "pygments_lexer": "ipython3",
   "version": "3.5.2"
  }
 },
 "nbformat": 4,
 "nbformat_minor": 0
}
