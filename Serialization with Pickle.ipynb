{
 "cells": [
  {
   "cell_type": "markdown",
   "metadata": {},
   "source": [
    "# Serialization using Pickle\n",
    "\n",
    "There are many cases where we would have to store oir results so as to quickly access them later. Python enables us to use something called as `pickles` to store such data; and the process is called serialization.\n",
    "\n",
    "Check out the following page to know more about serialization using pickle: \n",
    "http://www.diveintopython3.net/serializing.html\n",
    "\n",
    "<hr>\n",
    "\n",
    "## Demo program 1:\n",
    "\n",
    "### *serialize.py*"
   ]
  },
  {
   "cell_type": "code",
   "execution_count": 1,
   "metadata": {
    "collapsed": false
   },
   "outputs": [
    {
     "name": "stdout",
     "output_type": "stream",
     "text": [
      "{'b': 200, 'c': 300, 'a': 100}\n",
      "[400, 500, 600]\n",
      "------------------\n",
      "Printing stored data from save1.pkl\n",
      "{'b': 200, 'c': 300, 'a': 100}\n",
      "[400, 500, 600]\n"
     ]
    }
   ],
   "source": [
    "import pickle\n",
    "\n",
    "dict1 = {'a': 100,\n",
    "        'b': 200,\n",
    "        'c': 300}\n",
    "\n",
    "list1 = [400,\n",
    "        500,\n",
    "        600]\n",
    "\n",
    "print(dict1)\n",
    "print(list1)\n",
    "\n",
    "output = open(\"save1.pkl\", 'wb') \n",
    "\n",
    "pickle.dump(dict1, output,pickle.HIGHEST_PROTOCOL) # Saving the Dictionary in the pickle file\n",
    "pickle.dump(list1, output,pickle.HIGHEST_PROTOCOL) # Saving the List in the pickle file\n",
    "\n",
    "output.close()\n",
    "\n",
    "print(\"------------------\")\n",
    "\n",
    "inputFile = open(\"save1.pkl\", 'rb')                # Opening the pickle file\n",
    "\n",
    "dict2 = pickle.load(inputFile)                     # Loading the Dictionary from the pickle file \n",
    "list2 = pickle.load(inputFile)                     # Loading the List from the pickle file   \n",
    "\n",
    "inputFile.close()\n",
    "\n",
    "# Printing the restored results from the pickle file\n",
    "print(\"Printing stored data from \" + str(inputFile.name))\n",
    "print(dict2)\n",
    "print(list2)\n"
   ]
  },
  {
   "cell_type": "markdown",
   "metadata": {},
   "source": [
    "<hr>\n",
    "## Demo program 2\n",
    "\n",
    "### *Player.py*"
   ]
  },
  {
   "cell_type": "code",
   "execution_count": 2,
   "metadata": {
    "collapsed": true
   },
   "outputs": [],
   "source": [
    "class Player:\n",
    "\n",
    "    def __init__(self, ID, name, health, items):\n",
    "        self.id = ID\n",
    "        self.name = name\n",
    "        self.health = health\n",
    "        self.items = items\n",
    "\n",
    "    def __str__(self):\n",
    "        return \"My ID: \" + str(self.id) + \\\n",
    "            \" \\nMy Name: \" + self.name + \\\n",
    "            \" \\nMy Health: \" + str(self.health) + \\\n",
    "            \" \\nMy Items: \" + str(self.items) + \".\""
   ]
  },
  {
   "cell_type": "markdown",
   "metadata": {},
   "source": [
    "## *savedata.py*"
   ]
  },
  {
   "cell_type": "code",
   "execution_count": 3,
   "metadata": {
    "collapsed": false
   },
   "outputs": [
    {
     "name": "stdout",
     "output_type": "stream",
     "text": [
      "My ID: 1 \n",
      "My Name: JEFF \n",
      "My Health: 100.0 \n",
      "My Items: ['axe', 'sword', 'gun'].\n",
      "-------------------\n",
      "Printing stored data from save2.pkl\n",
      "My ID: 1 \n",
      "My Name: JEFF \n",
      "My Health: 100.0 \n",
      "My Items: ['axe', 'sword', 'gun'].\n"
     ]
    }
   ],
   "source": [
    "import pickle\n",
    "from Player import Player\n",
    "\n",
    "items = [\"axe\", \"sword\", \"gun\"]\n",
    "\n",
    "myObj = Player(1,\"JEFF\", 100.00, items)\n",
    "print(myObj)\n",
    "\n",
    "with open(\"save2.pkl\", 'wb') as outfile:\n",
    "    pickle.dump(myObj, outfile,pickle.HIGHEST_PROTOCOL)\n",
    "\n",
    "print(\"-------------------\")\n",
    "newObj = None\n",
    "\n",
    "with open(\"save2.pkl\", 'rb') as infile:\n",
    "    newObj = pickle.load(infile)\n",
    "\n",
    "print(\"Printing stored data from save2.pkl\")\n",
    "print(newObj)"
   ]
  },
  {
   "cell_type": "markdown",
   "metadata": {},
   "source": [
    "___"
   ]
  }
 ],
 "metadata": {
  "kernelspec": {
   "display_name": "Python 3",
   "language": "python",
   "name": "python3"
  },
  "language_info": {
   "codemirror_mode": {
    "name": "ipython",
    "version": 3
   },
   "file_extension": ".py",
   "mimetype": "text/x-python",
   "name": "python",
   "nbconvert_exporter": "python",
   "pygments_lexer": "ipython3",
   "version": "3.5.2"
  }
 },
 "nbformat": 4,
 "nbformat_minor": 0
}
