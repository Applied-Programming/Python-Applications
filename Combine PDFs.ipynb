{
 "cells": [
  {
   "cell_type": "markdown",
   "metadata": {},
   "source": [
    "# Combine PDFs"
   ]
  },
  {
   "cell_type": "markdown",
   "metadata": {},
   "source": [
    "The following program combines all the PDFs in the current working directory into a single PDF.\n",
    "This script can be very useful when you have to manage multiple documents and merge PDF files. It incorporates the knowledge of how to access files using python and takes help of the PyPDF2 module.\n",
    "\n",
    "\n",
    "## *combinepdfs.py*"
   ]
  },
  {
   "cell_type": "code",
   "execution_count": null,
   "metadata": {
    "collapsed": true
   },
   "outputs": [],
   "source": [
    "#! Python3.5\n",
    "#! combinepdfs.py\n",
    "#!_________________\n",
    "\n",
    "import PyPDF2\n",
    "import os\n",
    "\n",
    "# Get all the PDF filenames.\n",
    "# Store in the pdf_files list.\n",
    "pdf_files = []\n",
    "for file in os.listdir('.'):\n",
    "    if file.endswith('.pdf'):\n",
    "        pdf_files.append(file)\n",
    "pdf_files.sort()\n",
    "print (pdf_files)\n",
    "# Sort the PDF files \n",
    "\n",
    "# Create an object of the PdfFileWriter()class from the PyPDF2 module\n",
    "pdf_writer = PyPDF2.PdfFileWriter()\n",
    "\n",
    "# Iterate through all the PDFs.\n",
    "for file in pdf_files:\n",
    "    pdf_obj = open(file, 'rb')\n",
    "    pdf_reader = PyPDF2.PdfFileReader(pdf_obj)\n",
    "\n",
    "    # Loop through all pages of the PDFs and append them.\n",
    "    \n",
    "    # If you wish to skip the first page of the PDF, you can use:\n",
    "    #for pageNum in range(1, pdfReader.numPages):\n",
    "    \n",
    "    # In general, to skip the first 'n' pages, use:\n",
    "    #for pageNum in range(n, pdfReader.numPages):\n",
    "    \n",
    "    for page_no in range(0, pdf_reader.numPages): #no skipping (0)\n",
    "        page = pdf_reader.getPage(page_no)\n",
    "        pdf_writer.addPage(page)\n",
    "\n",
    "# Save the resulting PDF to a file.\n",
    "pdf_output = open('CombinedPDFs.pdf', 'wb')\n",
    "pdf_writer.write(pdf_output)\n",
    "pdf_output.close()"
   ]
  },
  {
   "cell_type": "markdown",
   "metadata": {},
   "source": [
    "Save a few PDFs in the root directory of this code and run this program. After completion, you will get a PDF named _combined.pdf_ containing all the pages of every other PDF in the directory.\n",
    "___"
   ]
  }
 ],
 "metadata": {
  "kernelspec": {
   "display_name": "Python 3",
   "language": "python",
   "name": "python3"
  },
  "language_info": {
   "codemirror_mode": {
    "name": "ipython",
    "version": 3
   },
   "file_extension": ".py",
   "mimetype": "text/x-python",
   "name": "python",
   "nbconvert_exporter": "python",
   "pygments_lexer": "ipython3",
   "version": "3.5.2"
  }
 },
 "nbformat": 4,
 "nbformat_minor": 0
}
