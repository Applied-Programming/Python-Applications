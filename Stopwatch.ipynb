{
 "cells": [
  {
   "cell_type": "markdown",
   "metadata": {},
   "source": [
    "# Stop-watch using Python.\n",
    "\n",
    "This program demonstrates a simple stop-watch functionaloty built in Python using the in-built time module.\n",
    "\n",
    "## *stopwatch.py*"
   ]
  },
  {
   "cell_type": "code",
   "execution_count": null,
   "metadata": {
    "collapsed": false
   },
   "outputs": [
    {
     "name": "stdout",
     "output_type": "stream",
     "text": [
      "Press enter to begin. Then, press ENTER button to start the stopwatch. Press Ctrl-C to quit.\n",
      "\n",
      "Started.\n",
      "\n",
      "Lap #1: 0.87 (0.87)\n",
      "Lap #2: 1.7 (0.84)\n",
      "Lap #3: 2.38 (0.67)\n",
      "Lap #4: 3.11 (0.74)\n",
      "Lap #5: 4.24 (1.12)\n",
      "Lap #6: 5.84 (1.6)\n",
      "Lap #7: 6.93 (1.09)"
     ]
    }
   ],
   "source": [
    "#! Python 3\n",
    "import time\n",
    "\n",
    "# Display the program's instructions:\n",
    "print('Press enter to begin. Then, press ENTER button to start the stopwatch. Press Ctrl-C to quit.')\n",
    "input() # press Enter to begin\n",
    "print('Started.')\n",
    "start_time = time.time() # get the first lap's start time\n",
    "last_time = start_time\n",
    "lap_num = 1\n",
    "\n",
    "# Track the lap times:\n",
    "try:\n",
    "    while True:\n",
    "        input()\n",
    "        lap_time = round(time.time() - last_time, 2)\n",
    "        total_time = round(time.time() - start_time, 2)\n",
    "        print('Lap #%s: %s (%s)' % (lap_num, total_time, lap_time), end='')\n",
    "        lap_num += 1\n",
    "        last_time = time.time() # reset the last lap time\n",
    "except KeyboardInterrupt:\n",
    "    # Handle the Ctrl-C exception to keep its error message from displaying.\n",
    "    print('\\nDone.')\n"
   ]
  },
  {
   "cell_type": "markdown",
   "metadata": {},
   "source": [
    "___"
   ]
  }
 ],
 "metadata": {
  "kernelspec": {
   "display_name": "Python 3",
   "language": "python",
   "name": "python3"
  },
  "language_info": {
   "codemirror_mode": {
    "name": "ipython",
    "version": 3
   },
   "file_extension": ".py",
   "mimetype": "text/x-python",
   "name": "python",
   "nbconvert_exporter": "python",
   "pygments_lexer": "ipython3",
   "version": "3.5.2"
  }
 },
 "nbformat": 4,
 "nbformat_minor": 0
}
