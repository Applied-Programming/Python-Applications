{
 "cells": [
  {
   "cell_type": "markdown",
   "metadata": {},
   "source": [
    "# Resize and Convert Images\n",
    "\n",
    "<hr>\n",
    "\n",
    "The following script can be used to resize all JPG/ JPEG images from the current folder to a fixed size of 299x299 by padding and convert them into PNG format images. "
   ]
  },
  {
   "cell_type": "code",
   "execution_count": null,
   "metadata": {
    "collapsed": true
   },
   "outputs": [],
   "source": [
    "import os, sys, glob\n",
    "from PIL import Image\n",
    "\n",
    "size = (299, 299)\n",
    "filetypes =['*.jpg','*.jpeg']\n",
    "\n",
    "def resize(infile):\n",
    "    outfile = os.path.splitext(infile)[0] + \".png\"\n",
    "    if infile != outfile:\n",
    "        try:\n",
    "            im = Image.open(infile)\n",
    "            im.thumbnail(size, Image.ANTIALIAS)\n",
    "            old_im_size = im.size\n",
    "            \n",
    "            ## By default, black colour would be used as the background for padding!\n",
    "            new_im = Image.new(\"RGB\", size)\n",
    "\n",
    "            new_im.paste(im, ((size[0]-old_im_size[0])/2,\n",
    "                              (size[1]-old_im_size[1])/2))\n",
    "            \n",
    "            new_im.save('Resized_Images/' + outfile, \"PNG\")\n",
    "        except IOError:\n",
    "            print \"Cannot resize '%s'\" % infile\n",
    "\n",
    "for filetype in filetypes:\n",
    "    for single_jpg in glob.glob(filetype):\n",
    "        print single_jpg\n",
    "        resize(single_jpg)\n",
    "\n",
    "print \"Done\""
   ]
  },
  {
   "cell_type": "markdown",
   "metadata": {},
   "source": [
    "This **Python 2.7 **script resizes the images to 299 x 299 by padding black color to the boundaries.\n",
    "\n",
    "For example it resizes \n",
    "\n",
    "<img src=\"https://raw.githubusercontent.com/Aniruddha-Tapas/Transfer-Learning-for-Animal-Classification-in-Tensorflow/master/images/original.jpg\">\n",
    "\n",
    "to : \n",
    "\n",
    "<img src=\"https://raw.githubusercontent.com/Aniruddha-Tapas/Transfer-Learning-for-Animal-Classification-in-Tensorflow/master/images/resized.jpg\">\n",
    "\n",
    "This is how the output PNG image would look like after resizing and padding."
   ]
  },
  {
   "cell_type": "markdown",
   "metadata": {},
   "source": [
    "<hr>"
   ]
  }
 ],
 "metadata": {
  "kernelspec": {
   "display_name": "Python 3",
   "language": "python",
   "name": "python3"
  },
  "language_info": {
   "codemirror_mode": {
    "name": "ipython",
    "version": 3
   },
   "file_extension": ".py",
   "mimetype": "text/x-python",
   "name": "python",
   "nbconvert_exporter": "python",
   "pygments_lexer": "ipython3",
   "version": "3.5.2"
  }
 },
 "nbformat": 4,
 "nbformat_minor": 2
}
